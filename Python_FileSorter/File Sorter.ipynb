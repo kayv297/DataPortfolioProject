{
 "cells": [
  {
   "cell_type": "code",
   "execution_count": 3,
   "id": "8683611f",
   "metadata": {},
   "outputs": [],
   "source": [
    "import os, shutil #shutil to move files, os to check available files"
   ]
  },
  {
   "cell_type": "code",
   "execution_count": 1,
   "id": "21250143",
   "metadata": {},
   "outputs": [],
   "source": [
    "path = r\"C:/Users/Kha Vu/Desktop/test/\" #set destination path"
   ]
  },
  {
   "cell_type": "code",
   "execution_count": 4,
   "id": "5ad63010-5386-4b35-98a2-48cc09760f6e",
   "metadata": {},
   "outputs": [
    {
     "data": {
      "text/plain": [
       "['accdb', 'companies.csv', 'docx', 'jpg', 'pptx', 'txt', 'xlsx']"
      ]
     },
     "execution_count": 4,
     "metadata": {},
     "output_type": "execute_result"
    }
   ],
   "source": [
    "os.listdir(path)"
   ]
  },
  {
   "cell_type": "code",
   "execution_count": 62,
   "id": "523b667d",
   "metadata": {},
   "outputs": [],
   "source": [
    "#list all types of files in path\n",
    "file_type = []\n",
    "for i in os.listdir(path):\n",
    "    if i.partition(\".\")[1] not in file_type:\n",
    "        file_type.append(i.partition(\".\")[2])\n",
    "\n",
    "#based on available types to create folders, named by file types\n",
    "for i in file_type:\n",
    "    if not os.path.exists(path + i):\n",
    "        os.makedirs(path + i)\n",
    "        \n",
    "#move files\n",
    "for file in os.listdir(path):\n",
    "    for tail in file_type:\n",
    "        if \".\" + tail in file and not os.path.exists(path + tail + \"/\" + file): #if file not exists in dest_folder -> move\n",
    "            shutil.move(path + file, path + tail + \"/\" + file) #move(original_path, destination_path)"
   ]
  }
 ],
 "metadata": {
  "kernelspec": {
   "display_name": "Python 3 (ipykernel)",
   "language": "python",
   "name": "python3"
  },
  "language_info": {
   "codemirror_mode": {
    "name": "ipython",
    "version": 3
   },
   "file_extension": ".py",
   "mimetype": "text/x-python",
   "name": "python",
   "nbconvert_exporter": "python",
   "pygments_lexer": "ipython3",
   "version": "3.11.7"
  }
 },
 "nbformat": 4,
 "nbformat_minor": 5
}
